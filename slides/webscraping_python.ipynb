{
 "cells": [
  {
   "cell_type": "markdown",
   "metadata": {},
   "source": [
    "# Webscraping med Python og BeautifulSoup - Af Henrik Sterner (henrik.sterner@gmail.com)\n"
   ]
  },
  {
   "cell_type": "markdown",
   "metadata": {},
   "source": [
    "Webscraping betyder groft sagt at hente/skrabe data fra internettet. Det kan være alt fra at hente en enkelt side, til at hente data fra mange sider og gemme dem i en database. Man kan lave webscraping i mange forskellige programmeringssprog inklusiv Python. I Python er der flere biblioteker, der kan bruges til webscraping, men et af de mest populære er BeautifulSoup. BeautifulSoup er et bibliotek, der kan bruges til at hente data fra HTML og XML filer.\n",
    "\n",
    "For at kunne bruge BeautifulSoup skal det installereres. Dette gøres ved at skrive følgende i terminalen:\n",
    "\n",
    "```bash\n",
    "pip install beautifulsoup4\n",
    "```\n",
    "\n",
    "Når BeautifulSoup er installeret, kan det importeres i Python ved at skrive:\n",
    "\n",
    "```python\n",
    "from bs4 import BeautifulSoup\n",
    "```\n"
   ]
  },
  {
   "cell_type": "markdown",
   "metadata": {},
   "source": [
    "## Advarsel: Læs altid en hjemmesides \"Terms of Service\" før du webscraper\n",
    "\n",
    "Det er vigtigt at være opmærksom på, at det ikke er alle hjemmesider, der tillader webscraping. Derfor er det vigtigt at læse en hjemmesides \"Terms of Service\" før du webscraper. Hvis en hjemmeside ikke tillader webscraping, kan det resultere i at hjemmesiden blokerer din IP-adresse, så du ikke længere kan tilgå hjemmesiden.\n",
    "\n",
    "Du kan finde en hjemmesides \"Terms of Service\" ved at scrolle ned til bunden af hjemmesiden og finde et link der hedder noget i retning af \"Terms of Service\", \"Terms and Conditions\" eller \"Terms of Use\". Hvis du ikke kan finde en \"Terms of Service\" på hjemmesiden, kan du prøve at kontakte hjemmesidens ejer og spørge om det er tilladt at webscrape.\n",
    "\n",
    "Typisk kan du finde information om webscraping i en hjemmesides \"Terms of Service\" under afsnit som \"Robots.txt\", \"Robots Meta Tag\" eller \"Robots Exclusion Standard\". Hvis en hjemmeside ikke tillader webscraping, kan du kontakte hjemmesidens ejer og spørge om det er tilladt at webscrape."
   ]
  },
  {
   "cell_type": "markdown",
   "metadata": {},
   "source": [
    "## Læsning af HTML\n",
    "\n",
    "For at kunne webscrape data fra en hjemmeside, skal man først hente HTML koden fra siden. Dette kan gøres på flere måder. Manuelt eller automatisk. Manuelt kan det gøres ved at højreklikke på siden og vælge \"Vis kildekode\". Automatisk kan det gøres ved at brug af beautifulsoup og request biblioteket. Request biblioteket bruges til at hente data fra internettet. For at kunne bruge request biblioteket skal det installeres. Dette gøres ved at skrive følgende i terminalen:\n",
    "\n",
    "```bash\n",
    "pip install requests\n",
    "```\n",
    "\n",
    "Nu er vi klar til at hente HTML koden fra en hjemmeside. Dette gøres ved at skrive følgende kode:"
   ]
  },
  {
   "cell_type": "code",
   "execution_count": null,
   "metadata": {},
   "outputs": [],
   "source": [
    "# Scrape hjemmesiden https://henriksterner.github.io/IntroPython/ \n",
    "\n",
    "import requests\n",
    "from bs4 import BeautifulSoup\n",
    "\n",
    "url = \"https://henriksterner.github.io/IntroPython/\"\n",
    "response = requests.get(url)\n",
    "soup = BeautifulSoup(response.text, \"html.parser\")\n",
    "\n",
    "print(soup.prettify())"
   ]
  },
  {
   "cell_type": "markdown",
   "metadata": {},
   "source": [
    "Vi bemærker, at vi bruger `requests.get()` til at hente HTML koden fra siden. Herefter bruger vi `BeautifulSoup()` til at parse HTML koden. Vi kan nu bruge BeautifulSoup til at finde elementer i HTML koden. soup.prettify() bruges til at formatere HTML koden, så den er nemmere at læse. \n",
    "\n",
    "I næste afsnit vil vi se, hvordan vi kan finde elementer og info i HTML koden.\n"
   ]
  },
  {
   "cell_type": "markdown",
   "metadata": {},
   "source": [
    "## Analyse af HTML-koden\n",
    "\n",
    "Når vi har hentet HTML koden fra en hjemmeside, kan vi bruge BeautifulSoup til at finde elementer og info i HTML koden. Dette gøres ved at bruge forskellige metoder i BeautifulSoup.\n",
    "\n",
    "### Find metoden\n",
    "\n",
    "Find metoden bruges til at finde det første element, der matcher det angivne tag. Hvis vi f.eks. vil finde det første `<p>` tag i HTML koden, kan vi skrive følgende kode:\n",
    "\n",
    "```python\n",
    "soup.find('p')\n",
    "```\n",
    "Herunder er et eksempel på, hvordan vi kan finde titlen på hjemmesiden ved at finde det første `<title>` tag:\n",
    "\n"
   ]
  },
  {
   "cell_type": "code",
   "execution_count": 2,
   "metadata": {},
   "outputs": [
    {
     "name": "stdout",
     "output_type": "stream",
     "text": [
      "<title>Introduktion til Programmering i Python ‘ | IntroPython</title>\n",
      "Introduktion til Programmering i Python ‘ | IntroPython\n",
      "<title>Introduktion til Programmering i Python ‘ | IntroPython</title>\n",
      "Introduktion til Programmering i Python ‘ | IntroPython\n"
     ]
    }
   ],
   "source": [
    "print(soup.title)\n",
    "print(soup.title.string)\n",
    "print(soup.find('title'))\n",
    "print(soup.find('title').string)"
   ]
  },
  {
   "cell_type": "markdown",
   "metadata": {},
   "source": [
    "Vi bemærker, at vi har flere måder at finde titlen på hjemmesiden, men den mest almindelige er at bruge `soup.title.string`."
   ]
  },
  {
   "cell_type": "markdown",
   "metadata": {},
   "source": [
    "\n",
    "### Find_all metoden\n",
    "\n",
    "Find_all metoden bruges til at finde alle elementer, der matcher det angivne tag. Hvis vi f.eks. vil finde alle `<p>` tags i HTML koden, kan vi skrive følgende kode:\n",
    "\n",
    "```python\n",
    "soup.find_all('p')\n",
    "```\n",
    "\n",
    "I det følgende vil vi prøve at trække alle elementer i tabellen ud. Vi kan bruge `find_all()` metoden til at finde alle `<tr>` tags i HTML koden. Herefter kan vi bruge en for-løkke til at finde alle `<td>` tags i hvert `<tr>` tag. Vi kan nu udskrive indholdet af hvert `<td>` tag ved at bruge `td.text`:\n",
    "\n"
   ]
  },
  {
   "cell_type": "code",
   "execution_count": null,
   "metadata": {},
   "outputs": [],
   "source": [
    "# Find alle tr tags\n",
    "rows = soup.find_all('tr')\n",
    "for row in rows:\n",
    "    # Find alle td tags i hver tr tag\n",
    "    cells = row.find_all('td')\n",
    "    for cell in cells:\n",
    "        print(cell.text)"
   ]
  },
  {
   "cell_type": "markdown",
   "metadata": {},
   "source": [
    "\n",
    "### Find_parent metoden\n",
    "\n",
    "Find_parent metoden bruges til at finde det første parent element, der matcher det angivne tag. Hvis vi f.eks. vil finde det første parent element til et `<p>` tag, kan vi skrive følgende kode:\n",
    "\n",
    "```python\n",
    "soup.find('p').find_parent()\n",
    "```\n",
    "\n",
    "I det følgende vil vi prøve at finde parent elementet til et `<td>` tag. Vi kan bruge `find_all()` metoden til at finde alle `<td>` tags i HTML koden. Herefter kan vi bruge `td.find_parent()` til at finde parent elementet til hvert `<td>` tag. Vi kan nu udskrive indholdet af parent elementet ved at bruge `parent.text`:\n",
    "\n",
    "\n"
   ]
  },
  {
   "cell_type": "code",
   "execution_count": null,
   "metadata": {},
   "outputs": [],
   "source": [
    "alltds = soup.find_all('td')\n",
    "for td in alltds:\n",
    "    print(td.find_previous('th').text, td.text)"
   ]
  },
  {
   "cell_type": "markdown",
   "metadata": {},
   "source": [
    "## Andre metoder i BeautifulSoup\n",
    "\n",
    "Der er mange andre metoder i BeautifulSoup, der kan bruges til at finde elementer og info i HTML koden. Nogle af de mest almindelige metoder er:\n",
    "\n",
    "- `find_next()`: Bruges til at finde det næste element, der matcher det angivne tag.\n",
    "- `find_previous()`: Bruges til at finde det forrige element, der matcher det angivne tag.\n",
    "- `find_all_next()`: Bruges til at finde alle næste elementer, der matcher det angivne tag.\n",
    "- `find_all_previous()`: Bruges til at finde alle forrige elementer, der matcher det angivne tag.\n",
    "\n",
    "Det overlades til læseren at prøve disse metoder i praksis.\n",
    "\n"
   ]
  },
  {
   "cell_type": "markdown",
   "metadata": {},
   "source": [
    "## Opgaver\n",
    "\n",
    "Start med at finde en hjemmeside, som du vil webscrape. Læs hjemmesidens \"Terms of Service\" for at sikre, at det er tilladt at webscrape. Hvis du ikke kan finde en så kig herunder for at finde en hjemmeside, som du kan webscrape.\n",
    "\n",
    "1. Hent HTML koden fra hjemmesiden ved at bruge request biblioteket.\n",
    "2. Brug BeautifulSoup til at parse HTML koden.\n",
    "3. Brug BeautifulSoup til at finde elementer og info i HTML koden.\n",
    "4. Find titlen på hjemmesiden.\n",
    "5. Find alle tabeller på hjemmesiden og hent herefter alle elementer i tabellen ud\n",
    "6. Gem dataene i en komma-separeret fil (CSV fil).\n",
    "7. Find andre elementer og info på hjemmesiden og gem dem i en CSV fil.\n",
    "8. Skriv en funktion der finder alle links på en hjemmeside og gemmer dem i en CSV fil.\n",
    "9. Skriv en funktion der finder alle billeder på en hjemmeside og gemmer dem i en CSV fil.\n",
    "10. Skriv en funktion der finder alle e-mail adresser på en hjemmeside og gemmer dem i en CSV fil.\n",
    "11. Skriv en funktion, der finder alle tags med en bestemt værdi og gemmer dem i en CSV fil.\n",
    "12. Skriv en funktion, der finder alle tags med en bestemt klasse og gemmer dem i en CSV fil.\n",
    "13. Skriv en funktion, der finder alle tags med en bestemt id og gemmer dem i en CSV fil.\n",
    "14. Skriv en funktion, der finder alle tags med en bestemt attribut og gemmer dem i en CSV fil.\n",
    "15. Skriv en funktion, der finder alle tags med en bestemt attributværdi og gemmer dem i en CSV fil.\n",
    "\n",
    "Hint: Du kan i læse og skrive til en CSV fil ved at bruge `csv` biblioteket. For at kunne bruge `csv` biblioteket skal det importeres i Python ved at skrive:\n",
    "\n",
    "```python\n",
    "import csv\n",
    "```\n",
    "\n",
    "Herefter kan du bruge `csv.reader()` til at læse fra en CSV fil og `csv.writer()` til at skrive til en CSV fil.\n",
    "\n",
    "```python\n",
    "with open('data.csv', 'w', newline='') as file:\n",
    "    writer = csv.writer(file)\n",
    "    writer.writerow(['Name', 'Age', 'City'])\n",
    "    writer.writerow(['John', '25', 'New York'])\n",
    "    writer.writerow(['Jane', '30', 'Los Angeles'])\n",
    "```\n",
    "\n",
    "Du kan finde mere information om `csv` biblioteket i Python dokumentationen: https://docs.python.org/3/library/csv.html\n",
    "\n",
    "\n",
    "\n",
    "\n",
    "\n",
    "\n"
   ]
  },
  {
   "cell_type": "markdown",
   "metadata": {},
   "source": [
    "## Bilag    \n",
    "\n",
    "Herunder en html-side som du kan bruge til opgaven hvis du ikke har en hjemmeside at webscrape:\n",
    "\n",
    "```html\n",
    "<!DOCTYPE html>\n",
    "<html lang=\"en\">\n",
    "<head>\n",
    "    <meta charset=\"UTF-8\">\n",
    "    <meta name=\"viewport\" content=\"width=device-width, initial-scale=1.0\">\n",
    "    <title>Unge Menneskers Rygevaner og Andre Statistikker</title>\n",
    "    <style>\n",
    "        table {\n",
    "            width: 100%;\n",
    "            border-collapse: collapse;\n",
    "            margin-bottom: 20px;\n",
    "        }\n",
    "        th, td {\n",
    "            border: 1px solid #ddd;\n",
    "            padding: 8px;\n",
    "        }\n",
    "        th {\n",
    "            background-color: #f2f2f2;\n",
    "        }\n",
    "        h1, h2 {\n",
    "            text-align: center;\n",
    "        }\n",
    "    </style>\n",
    "</head>\n",
    "<body>\n",
    "    <h1>Unge Menneskers Rygevaner og Andre Statistikker</h1>\n",
    "\n",
    "    <h2>Rygevaner blandt unge</h2>\n",
    "    <table>\n",
    "        <thead>\n",
    "            <tr>\n",
    "                <th>Alder</th>\n",
    "                <th>Procent der ryger dagligt</th>\n",
    "                <th>Procent der ryger lejlighedsvis</th>\n",
    "                <th>Procent der aldrig har røget</th>\n",
    "            </tr>\n",
    "        </thead>\n",
    "        <tbody>\n",
    "            <tr>\n",
    "                <td>15-17</td>\n",
    "                <td>10%</td>\n",
    "                <td>15%</td>\n",
    "                <td>75%</td>\n",
    "            </tr>\n",
    "            <tr>\n",
    "                <td>18-20</td>\n",
    "                <td>20%</td>\n",
    "                <td>25%</td>\n",
    "                <td>55%</td>\n",
    "            </tr>\n",
    "            <tr>\n",
    "                <td>21-23</td>\n",
    "                <td>25%</td>\n",
    "                <td>20%</td>\n",
    "                <td>55%</td>\n",
    "            </tr>\n",
    "        </tbody>\n",
    "    </table>\n",
    "\n",
    "    <h2>Andre sundhedsrelaterede vaner</h2>\n",
    "    <table>\n",
    "        <thead>\n",
    "            <tr>\n",
    "                <th>Alder</th>\n",
    "                <th>Procent der dyrker motion regelmæssigt</th>\n",
    "                <th>Procent der spiser sundt</th>\n",
    "                <th>Procent der drikker alkohol ugentligt</th>\n",
    "            </tr>\n",
    "        </thead>\n",
    "        <tbody>\n",
    "            <tr>\n",
    "                <td>15-17</td>\n",
    "                <td>60%</td>\n",
    "                <td>70%</td>\n",
    "                <td>30%</td>\n",
    "            </tr>\n",
    "            <tr>\n",
    "                <td>18-20</td>\n",
    "                <td>50%</td>\n",
    "                <td>65%</td>\n",
    "                <td>40%</td>\n",
    "            </tr>\n",
    "            <tr>\n",
    "                <td>21-23</td>\n",
    "                <td>55%</td>\n",
    "                <td>60%</td>\n",
    "                <td>50%</td>\n",
    "            </tr>\n",
    "        </tbody>\n",
    "    </table>\n",
    "\n",
    "    <h2>Uddannelsesniveau</h2>\n",
    "    <table>\n",
    "        <thead>\n",
    "            <tr>\n",
    "                <th>Alder</th>\n",
    "                <th>Procent med gymnasial uddannelse</th>\n",
    "                <th>Procent med erhvervsuddannelse</th>\n",
    "                <th>Procent med videregående uddannelse</th>\n",
    "            </tr>\n",
    "        </thead>\n",
    "        <tbody>\n",
    "            <tr>\n",
    "                <td>15-17</td>\n",
    "                <td>80%</td>\n",
    "                <td>10%</td>\n",
    "                <td>10%</td>\n",
    "            </tr>\n",
    "            <tr>\n",
    "                <td>18-20</td>\n",
    "                <td>70%</td>\n",
    "                <td>20%</td>\n",
    "                <td>10%</td>\n",
    "            </tr>\n",
    "            <tr>\n",
    "                <td>21-23</td>\n",
    "                <td>60%</td>\n",
    "                <td>25%</td>\n",
    "                <td>15%</td>\n",
    "            </tr>\n",
    "        </tbody>\n",
    "    </table>\n",
    "</body>\n",
    "</html>\n",
    "```"
   ]
  }
 ],
 "metadata": {
  "kernelspec": {
   "display_name": "Python 3",
   "language": "python",
   "name": "python3"
  },
  "language_info": {
   "codemirror_mode": {
    "name": "ipython",
    "version": 3
   },
   "file_extension": ".py",
   "mimetype": "text/x-python",
   "name": "python",
   "nbconvert_exporter": "python",
   "pygments_lexer": "ipython3",
   "version": "3.11.7"
  }
 },
 "nbformat": 4,
 "nbformat_minor": 2
}
