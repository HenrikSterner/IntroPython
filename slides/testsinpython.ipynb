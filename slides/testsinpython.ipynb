{
 "cells": [
  {
   "cell_type": "markdown",
   "metadata": {},
   "source": [
    "# Test i Python med unittest og doctests - Af Henrik Sterner (henrik.sterner@gmail.com)\n",
    "\n",
    "I Python har vi mulighed for at lave flere forskellige tests. Vi kan bruge kommandoen `assert`, som tjekker om en betingelse er sand.\n",
    "Vi kan lave unittests, der er en indbygget testfunktion i Python, som tester om en funktion virker som den skal. \n",
    "Vi kan også lave doctests, der er en test, der er skrevet i docstrings-formatet. Vi kan også lave en test, der er skrevet i en fil, og som vi kan køre fra terminalen.\n",
    "\n",
    "I denne notebook vil vi se på hvordan man laver assertions, unittests og doctests."
   ]
  },
  {
   "cell_type": "markdown",
   "metadata": {},
   "source": [
    "## Assertions: En simpel test\n",
    "\n",
    "En assertion er en simpel test, der tjekker om en betingelse er sand. Hvis betingelsen er falsk, vil programmet stoppe og give en AssertionError.\n",
    "\n",
    "```python\n",
    "assert 1 == 1\n",
    "assert 1 == 2\n",
    "```\n",
    "\n",
    "Vi kan også skrive en besked, der bliver vist, hvis betingelsen er falsk.\n",
    "\n",
    "```python\n",
    "assert 1 == 2, \"1 er ikke lig med 2\"\n",
    "```\n",
    "\n",
    "Vi kan bruge assertions til at teste om en funktion virker som den skal.\n",
    "\n",
    "```python\n",
    "def add(a, b):\n",
    "    return a + b\n",
    "\n",
    "assert add(1, 2) == 3\n",
    "assert add(1, 2) == 4\n",
    "```\n",
    "\n",
    "Vi kan også indkapsle vores assertions i en funktion, så vi kan teste flere ting på en gang.\n",
    "\n",
    "```python\n",
    "def test_add():\n",
    "    assert add(1, 2) == 3\n",
    "    assert add(1, 2) == 4\n",
    "\n",
    "test_add()\n",
    "```\n",
    "\n",
    "Vi kan sågar lave en test, der tester om en exception bliver kastet.\n",
    "\n",
    "```python\n",
    "def divide(a, b):\n",
    "    if b == 0:\n",
    "        raise ZeroDivisionError(\"division by zero\")\n",
    "    return a / b\n",
    "\n",
    "def test_divide():\n",
    "    assert divide(1, 2) == 0.5\n",
    "    assert divide(1, 0) == 0\n",
    "\n",
    "test_divide()\n",
    "```\n",
    "\n",
    "Her vil testen fejle, fordi vi forventer at der bliver kastet en exception. Der findes en lang række forskellige exceptions, som vi kan teste for. Herunder en liste over de mest almindelige exceptions:\n",
    "\n",
    "- `ZeroDivisionError`: Kastes når vi forsøger at dividere med 0.\n",
    "- `ValueError`: Kastes når en funktion modtager en ugyldig værdi.\n",
    "- `TypeError`: Kastes når en funktion modtager en ugyldig type.\n",
    "- `IndexError`: Kastes når vi forsøger at tilgå et element i en liste, der ikke eksisterer.\n",
    "- `KeyError`: Kastes når vi forsøger at tilgå en nøgle i et dictionary, der ikke eksisterer.\n",
    "- `AssertionError`: Kastes når en assertion fejler.\n",
    "\n",
    "Generelt set er det en god idé at teste for exceptions, da det kan hjælpe os med at finde fejl i vores kode. Vi kan gøre det ved at bruge `try` og `except` blokke. Herunder et eksempel:\n",
    "\n",
    "```python\n",
    "def test_divide():\n",
    "    assert divide(1, 2) == 0.5\n",
    "    try:\n",
    "        divide(1, 0)\n",
    "    except ZeroDivisionError:\n",
    "        pass\n",
    "    else:\n",
    "        assert False\n",
    "```\n",
    "\n",
    "Her tester vi om der bliver kastet en `ZeroDivisionError`, når vi forsøger at dividere med 0. Hvis der ikke bliver kastet en exception, vil testen fejle.\n",
    "\n",
    "\n",
    "Ved at bruge løkker og en liste af tests, kan vi teste flere funktioner på en gang.\n",
    "\n",
    "```python\n",
    "def test_all():\n",
    "    tests = [test_add, test_divide]\n",
    "    for test in tests:\n",
    "        test()\n",
    "\n",
    "test_all()\n",
    "\n",
    "```\n",
    "\n",
    "Bemærk at vi ikke får nogen output, hvis alle tests er succesfulde. Hvis en test fejler, vil vi få en AssertionError. \n",
    "\n"
   ]
  },
  {
   "cell_type": "markdown",
   "metadata": {},
   "source": [
    "### Opgaver til assertions\n",
    "\n",
    "1. Skriv en funktion `multiply(a, b)`, der tager to tal som input og returnerer produktet af de to tal. Test funktionen med assertions.\n",
    "2. Skriv en funktion `subtract(a, b)`, der tager to tal som input og returnerer differensen af de to tal. Test funktionen med assertions.\n",
    "3. Skriv en funktion `power(a, b)`, der tager to tal som input og returnerer a opløftet i b. Test funktionen med assertions.\n",
    "4. Skriv en funktion `factorial(n)`, der tager et tal som input og returnerer n!. Test funktionen med assertions.\n",
    "5. Skriv en funktion der summer alle tal i en liste. Test funktionen med assertions.\n",
    "6. Skriv en funktion der tager et naturtal n som input og returnerer det n'te Fibonacci-tal. Test funktionen med assertions.\n",
    "7. Skriv en funktion der tager en liste som input og returnerer det største tal i listen. Test funktionen med assertions.\n",
    "8. Skriv en funktion der undersøger om en liste er sorteret. Test funktionen med assertions.\n",
    "9. Skriv en funktion der tager en liste som input og returnerer en ny liste med de unikke elementer. Test funktionen med assertions.\n",
    "10. Skriv en funktion der tager en liste som input og returnerer en ny liste med de elementer der optræder mere end én gang. Test funktionen med assertions."
   ]
  },
  {
   "cell_type": "markdown",
   "metadata": {},
   "source": [
    "## Unittests i Python\n"
   ]
  },
  {
   "cell_type": "markdown",
   "metadata": {},
   "source": [
    "En unittest er en test, der er skrevet i Python, som tester om en funktion virker som den skal. En unittest er en del af Python standardbibliotek, og vi kan derfor bruge den uden at skulle installere noget. Fordelene ved unittests er, at de er nemme at skrive, og at de er nemme at køre. Ulempen er, at de kan være svære at læse, og at de kan være svære at vedligeholde. \n",
    "\n",
    "For at lave en unittest skal vi importere unittest modulet, og så skal vi lave en klasse, der nedarver fra unittest.TestCase. I denne klasse skal vi lave en række metoder, der starter med test_. Disse metoder er de tests, der skal køres.\n",
    "\n",
    "Vi starter med at importere unittest modulet:\n",
    "\n",
    "```python\n",
    "import unittest\n",
    "```\n",
    "\n",
    "Derefter laver vi en klasse, der nedarver fra unittest.TestCase:\n",
    "\n",
    "```python\n",
    "class TestStringMethods(unittest.TestCase):\n",
    "```\n",
    "\n",
    "I denne klasse laver vi en række metoder, der starter med test_. Disse metoder er de tests, der skal køres. I disse metoder bruger vi assert metoden til at teste om en funktion virker som den skal. Hvis assert metoden fejler, så vil testen fejle.\n"
   ]
  },
  {
   "cell_type": "markdown",
   "metadata": {},
   "source": [
    "## Eksempel på unittest: En funktion, der lægger to tal sammen\n",
    "\n",
    "Vi starter med et relativt simpelt eksempel. Vi vil lave en funktion, der lægger to tal sammen. Vi vil teste om funktionen virker som den skal ved at lave en unittest:"
   ]
  },
  {
   "cell_type": "code",
   "execution_count": 7,
   "metadata": {},
   "outputs": [],
   "source": [
    "import unittest\n",
    "def add(a, b):\n",
    "    return a + b\n",
    "\n",
    "class TestAdd(unittest.TestCase):\n",
    "    def test_add(self):\n",
    "        self.assertEqual(add(1, 2), 3)\n",
    "        self.assertEqual(add(0, 0), 0)\n",
    "        self.assertEqual(add(-1, -1), -2)\n",
    "        self.assertEqual(add(1, -1), 0)\n",
    "        "
   ]
  },
  {
   "cell_type": "markdown",
   "metadata": {},
   "source": [
    "\n",
    "Her ser vi, at vi har lavet en klasse, der nedarver fra unittest.TestCase. I denne klasse har vi lavet en metode, der starter med test_. I denne metode bruger vi assertEqual metoden til at teste om funktionen add virker som den skal. Hvis assertEqual metoden fejler, så vil testen fejle.\n",
    "\n",
    "Bemærk assertEqual metoden. Den tager to argumenter. Det første argument er det forventede resultat, og det andet argument er det faktiske resultat. Hvis de to argumenter er ens, så vil testen lykkes. Hvis de to argumenter ikke er ens, så vil testen fejle.\n",
    "\n",
    "Vi kan køre testen i jupyter ved at skrive:\n",
    "\n",
    "```python\n",
    "unittest.main(argv=[''], exit=False)\n",
    "```\n",
    "unittest.main() metoden kører alle tests i klassen. argv=[''] argumentet fortæller unittest.main() metoden, at vi ikke vil have nogen argumenter. exit=False argumentet fortæller unittest.main() metoden, at vi ikke vil have unittest.main() metoden til at afslutte programmet.\n",
    "\n",
    "Vi kan også køre testen i terminalen ved at skrive:\n",
    "\n",
    "```bash\n",
    "python -m unittest test_add.py\n",
    "```\n",
    "\n",
    "Herunder prøver vi at køre testen i jupyter:\n",
    "\n"
   ]
  },
  {
   "cell_type": "code",
   "execution_count": 8,
   "metadata": {},
   "outputs": [
    {
     "name": "stderr",
     "output_type": "stream",
     "text": [
      ".\n",
      "----------------------------------------------------------------------\n",
      "Ran 1 test in 0.001s\n",
      "\n",
      "OK\n"
     ]
    },
    {
     "data": {
      "text/plain": [
       "<unittest.main.TestProgram at 0x1e4c5d83610>"
      ]
     },
     "execution_count": 8,
     "metadata": {},
     "output_type": "execute_result"
    }
   ],
   "source": [
    "unittest.main(argv=[''], exit=False)"
   ]
  },
  {
   "cell_type": "markdown",
   "metadata": {},
   "source": [
    "## Eksempel på unittest: Tælle alle ord i en tekst\n",
    "\n",
    "Vi vil nu lave en lidt mere kompleks test. Vi vil lave en funktion, der finder de unikke ord i en tekst, og tæller hvor mange gange hvert ord optræder. Vi vil teste om funktionen virker som den skal ved at lave en unittest:\n",
    "\n",
    "\n"
   ]
  },
  {
   "cell_type": "code",
   "execution_count": 9,
   "metadata": {},
   "outputs": [
    {
     "name": "stderr",
     "output_type": "stream",
     "text": [
      "...\n",
      "----------------------------------------------------------------------\n",
      "Ran 3 tests in 0.002s\n",
      "\n",
      "OK\n"
     ]
    },
    {
     "data": {
      "text/plain": [
       "<unittest.main.TestProgram at 0x1e4c6fc65d0>"
      ]
     },
     "execution_count": 9,
     "metadata": {},
     "output_type": "execute_result"
    }
   ],
   "source": [
    "import unittest\n",
    "\n",
    "def count_unique_words(text):\n",
    "    words = text.split()\n",
    "    unique_words = set(words)\n",
    "    word_count = {}\n",
    "    for word in unique_words:\n",
    "        word_count[word] = words.count(word)\n",
    "    return word_count\n",
    "\n",
    "class TestStringMethods(unittest.TestCase):\n",
    "    def test_count_unique_words(self):\n",
    "        text = \"hello world hello\"\n",
    "        expected = {\"hello\": 2, \"world\": 1}\n",
    "        self.assertEqual(count_unique_words(text), expected)\n",
    "\n",
    "    def test_count_unique_words_empty(self):\n",
    "        text = \"\"\n",
    "        expected = {}\n",
    "        self.assertEqual(count_unique_words(text), expected)\n",
    "    \n",
    "\n",
    "\n",
    "unittest.main(argv=[''], exit=False)"
   ]
  },
  {
   "cell_type": "markdown",
   "metadata": {},
   "source": [
    "## Opgaver til unittests\n",
    "1. Skriv en unittest til funktionen `multiply(a, b)`, der tager to tal som input og returnerer produktet af de to tal.\n",
    "2. Skriv en funktion der afgør om et tal er et primtal. Skriv en unittest til funktionen.\n",
    "3. Skriv en funktion der tager en liste som input og returnerer det største tal i listen. Skriv en unittest til funktionen.\n",
    "4. Skriv en funktion der tager en liste som input og returnerer en ny liste med de unikke elementer. Skriv en unittest til funktionen.\n",
    "5. Skriv en funktion der tager en liste som input og returnerer en ny liste med de elementer der optræder mere end én gang. Skriv en unittest til funktionen.\n",
    "6. Skriv en funktion der tager en liste som input og returnerer summen af alle tal\n",
    "7. Skriv en funktion der tager en liste som input og returnerer gennemsnittet af alle tal\n",
    "8. Skriv en funktion der tager en liste som input og returnerer medianen af alle tal\n",
    "9. Skriv en funktion der tager en liste som input og returnerer det n'te Fibonacci-tal\n",
    "10. Skriv en funktion der tager en liste som input og returnerer det største tal i listen"
   ]
  },
  {
   "cell_type": "markdown",
   "metadata": {},
   "source": [
    "## Docstrings og doctests\n",
    "\n",
    "En docstring er en streng, der står øverst i en funktion, og som beskriver hvad funktionen gør. En docstring er en god måde at dokumentere sin kode på, og det gør det nemmere for andre at forstå hvad koden gør.\n",
    "\n",
    "Herunder ser vi et eksempel på en docstring:\n",
    "\n",
    "```python\n",
    "def add(a, b):\n",
    "    \"\"\"\n",
    "    This function adds two numbers together.\n",
    "    \n",
    "    Parameters:\n",
    "    a (int): The first number.\n",
    "    b (int): The second number.\n",
    "    \n",
    "    Returns:\n",
    "    int: The sum of the two numbers.\n",
    "    \"\"\"\n",
    "    return a + b\n",
    "```\n",
    "Når vi har skrevet en docstring, kan vi bruge doctests til at teste om funktionen virker som den skal. En doctest er en test, der er skrevet i docstrings-formatet:\n",
    "\n",
    "```python\n",
    "def add(a, b):\n",
    "    \"\"\"\n",
    "    This function adds two numbers together.\n",
    "    \n",
    "    Parameters:\n",
    "    a (int): The first number.\n",
    "    b (int): The second number.\n",
    "    \n",
    "    Returns:\n",
    "    int: The sum of the two numbers.\n",
    "    \n",
    "    >>> add(1, 2)\n",
    "    3\n",
    "    >>> add(1, 2)\n",
    "    4\n",
    "    \"\"\"\n",
    "    return a + b\n",
    "```\n",
    "Her bemærker vi, at vi har skrevet to tests i docstrings-formatet. Hvis vi kører funktionen med doctests, vil vi få en AssertionError, fordi den anden test fejler.\n",
    "\n",
    "Vi kan køre doctests ved at skrive:\n",
    "\n",
    "```python\n",
    "if __name__ == \"__main__\":\n",
    "    import doctest\n",
    "    doctest.testmod()\n",
    "```\n",
    "\n",
    "Herunder ser vi et eksempel på en funktion, der tager en liste som input og returnerer det største tal i listen:\n",
    "\n",
    "```python\n",
    "def max_list(lst):\n",
    "    \"\"\"\n",
    "    This function takes a list as input and returns the largest number in the list.\n",
    "    \n",
    "    Parameters:\n",
    "    lst (list): The list of numbers.\n",
    "    \n",
    "    Returns:\n",
    "    int: The largest number in the list.\n",
    "    \n",
    "    >>> max_list([1, 2, 3, 4, 5])\n",
    "    5\n",
    "    >>> max_list([5, 4, 3, 2, 1])\n",
    "    5\n",
    "    \"\"\"\n",
    "    return max(lst)\n",
    "\n",
    "if __name__ == \"__main__\":\n",
    "    import doctest\n",
    "    doctest.testmod()\n",
    "```\n",
    "\n",
    "Herunder ser vi et eksempel på en funktion, der tager en liste som input og returnerer en ny liste med de unikke elementer:\n",
    "\n",
    "```python\n",
    "def unique_list(lst):\n",
    "    \"\"\"\n",
    "    This function takes a list as input and returns a new list with the unique elements.\n",
    "    \n",
    "    Parameters:\n",
    "    lst (list): The list of numbers.\n",
    "    \n",
    "    Returns:\n",
    "    list: A new list with the unique elements.\n",
    "    \n",
    "    >>> unique_list([1, 2, 3, 4, 5])\n",
    "    [1, 2, 3, 4, 5]\n",
    "    >>> unique_list([1, 1, 2, 2, 3, 3, 4, 4, 5, 5])\n",
    "    [1, 2, 3, 4, 5]\n",
    "    \"\"\"\n",
    "    return list(set(lst))\n",
    "\n",
    "if __name__ == \"__main__\":\n",
    "    import doctest\n",
    "    doctest.testmod()\n",
    "```\n"
   ]
  },
  {
   "cell_type": "markdown",
   "metadata": {},
   "source": [
    "## Opgaver til doctests\n",
    "Skriv docstrings og doctests til følgende funktioner:\n",
    "1. En funktion der tager en liste som input og returnerer summen af alle tal\n",
    "2. En funktion der afgør om størrelsen af en liste er et lige tal\n",
    "3. En funktion der afgør om en streng er et palindrom\n",
    "4. En funktion der tager en liste som input og returnerer gennemsnittet af alle tal\n",
    "5. En funktion der undersøger om en liste er sorteret\n",
    "6. En funktion der tager en liste som input og returnerer en ny liste med de unikke elementer\n",
    "7. En funktion der tager en liste som input og returnerer en ny liste med de elementer der optræder mere end én gang\n",
    "8. En funktion der tager en liste som input og returnerer det n'te Fibonacci-tal\n",
    "9. En funktion der tager en liste som input og returnerer det største tal i listen\n",
    "10. En funktion der tager en liste som input og returnerer medianen af alle tal"
   ]
  },
  {
   "cell_type": "markdown",
   "metadata": {},
   "source": []
  }
 ],
 "metadata": {
  "kernelspec": {
   "display_name": "Python 3",
   "language": "python",
   "name": "python3"
  },
  "language_info": {
   "codemirror_mode": {
    "name": "ipython",
    "version": 3
   },
   "file_extension": ".py",
   "mimetype": "text/x-python",
   "name": "python",
   "nbconvert_exporter": "python",
   "pygments_lexer": "ipython3",
   "version": "3.11.7"
  }
 },
 "nbformat": 4,
 "nbformat_minor": 2
}
